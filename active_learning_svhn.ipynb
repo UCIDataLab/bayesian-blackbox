{
 "cells": [
  {
   "cell_type": "code",
   "execution_count": 1,
   "metadata": {},
   "outputs": [],
   "source": [
    "from collections import deque\n",
    "import numpy as np\n",
    "import matplotlib.pyplot as plt\n",
    "import random\n",
    "import pandas as pd\n",
    "\n",
    "from bbutils import BetaBernoulli"
   ]
  },
  {
   "cell_type": "code",
   "execution_count": 2,
   "metadata": {},
   "outputs": [],
   "source": [
    "predictions = np.genfromtxt(\"data/svhn/svhn_predictions.txt\", delimiter=' ', dtype = float)\n",
    "df = pd.DataFrame(predictions[:,0].astype(int), columns=['Correct'])\n",
    "df['Predicted'] = np.argmax(predictions[:,1:11], axis=1)\n",
    "df['Confidence'] = np.max(predictions[:,1:11], axis=1)\n",
    "df = df.reset_index()\n",
    "num_classes = 10"
   ]
  },
  {
   "cell_type": "code",
   "execution_count": 3,
   "metadata": {},
   "outputs": [],
   "source": [
    "# get value for the varaibles robby defined\n",
    "category2idx = {i:i for i in range(num_classes)}\n",
    "idx2category = {i:i for i in range(num_classes)}\n",
    "categories = df['Predicted'].tolist()\n",
    "observations = [df['Predicted'][idx] == df['Correct'][idx] for idx in range(df.shape[0])] "
   ]
  },
  {
   "cell_type": "code",
   "execution_count": 4,
   "metadata": {},
   "outputs": [],
   "source": [
    "# Try to identify worst class\n",
    "n = 5001\n",
    "k = num_classes\n",
    "runs = 10000\n",
    "# pseudo_count = 2\n",
    "mode = 'min'\n",
    "\n",
    "active_choices = np.zeros((runs, k, n))\n",
    "active_thetas = np.zeros((runs, k, n))\n",
    "random_thetas = np.zeros((runs, k, n))\n",
    "\n",
    "for r in range(runs):\n",
    "\n",
    "    # Queue choices for each category\n",
    "    deques = [deque() for _ in range(k)]\n",
    "    for category, observation in zip(categories, observations):\n",
    "        deques[category].append(observation)\n",
    "    ### THIS IS IMPORTANT ###\n",
    "    for _deque in deques:\n",
    "        random.shuffle(_deque)\n",
    "   ####\n",
    "\n",
    "    # Random model\n",
    "    model = BetaBernoulli(k)\n",
    "\n",
    "#     # Prior\n",
    "#     # model._params = np.vstack((alpha, beta)).T\n",
    "\n",
    "    n_success = 0\n",
    "    total = 0\n",
    "    for i in range(n):\n",
    "        while True:\n",
    "            category = random.randrange(k)\n",
    "            if len(deques[category]) != 0:\n",
    "                break\n",
    "        observation = deques[category].pop()\n",
    "        model.update(category, observation)\n",
    "        random_thetas[r, :, i] = model._params[:,0] / (model._params[:,0] + model._params[:,1])\n",
    "    \n",
    "    # Queue choices for each category\n",
    "    deques = [deque() for _ in range(k)]\n",
    "    for category, observation in zip(categories, observations):\n",
    "        deques[category].append(observation)\n",
    "    ### THIS IS IMPORTANT ###\n",
    "    for _deque in deques:\n",
    "        random.shuffle(_deque)\n",
    "   ####\n",
    "\n",
    "    # Beta Bernoulli model\n",
    "    model = BetaBernoulli(k)\n",
    "\n",
    "    # Prior\n",
    "    # model._params = np.vstack((alpha, beta)).T\n",
    "\n",
    "    n_success = 0\n",
    "    total = 0\n",
    "\n",
    "    for i in range(n):\n",
    "        theta_hat = model.sample()\n",
    "        \n",
    "        if mode == 'max':\n",
    "            choices = np.argsort(theta_hat)[::-1]\n",
    "        elif mode == 'min':\n",
    "            choices = np.argsort(theta_hat)\n",
    "            \n",
    "        for j in range(k):\n",
    "            category = choices[j]\n",
    "            if len(deques[category]) != 0:\n",
    "                break\n",
    "        observation = deques[category].pop()\n",
    "        model.update(category, observation)\n",
    "        #beta_bernoulli_outcome[i] = n_success / (total + 1e-13)\n",
    "        active_thetas[r, :, i] = model._params[:,0] / (model._params[:,0] + model._params[:,1])\n",
    "        if i > 0:\n",
    "            active_choices[r, :, i] = active_choices[r, :, i - 1]\n",
    "        active_choices[r, category, i] += 1"
   ]
  },
  {
   "cell_type": "code",
   "execution_count": 5,
   "metadata": {},
   "outputs": [
    {
     "name": "stdout",
     "output_type": "stream",
     "text": [
      "[0.96420455 0.9661705  0.97816594 0.95717796 0.97429814 0.96827411\n",
      " 0.96403242 0.9726997  0.96875    0.95182211]\n"
     ]
    }
   ],
   "source": [
    "correct = np.zeros(k)\n",
    "total = np.zeros(k)\n",
    "\n",
    "for category, observation in zip(categories, observations):\n",
    "    if observation:\n",
    "        correct[category] += 1\n",
    "    total[category] += 1\n",
    "    \n",
    "empirical_acc = correct / total\n",
    "ranked = np.argsort(empirical_acc)[::-1]\n",
    "print(empirical_acc)"
   ]
  },
  {
   "cell_type": "code",
   "execution_count": 6,
   "metadata": {},
   "outputs": [
    {
     "name": "stdout",
     "output_type": "stream",
     "text": [
      "9\n",
      "3\n",
      "6\n",
      "0\n",
      "1\n",
      "5\n",
      "8\n",
      "7\n",
      "4\n",
      "2\n"
     ]
    },
    {
     "data": {
      "image/png": "[encoded data removed]",
      "text/plain": [
       "<Figure size 432x288 with 1 Axes>"
      ]
     },
     "metadata": {
      "needs_background": "light"
     },
     "output_type": "display_data"
    }
   ],
   "source": [
    "avg_active_choices = np.mean(active_choices, axis=0)\n",
    "\n",
    "for i in range(k):\n",
    "    plt.plot(avg_active_choices[i,:])\n",
    "    plt.xlabel('Time')\n",
    "    plt.ylabel('Number of times chosen')\n",
    "\n",
    "top = np.argsort(avg_active_choices[:,-1])[::-1]\n",
    "\n",
    "for i in top[:10]:\n",
    "    print(idx2category[i])"
   ]
  },
  {
   "cell_type": "code",
   "execution_count": 7,
   "metadata": {},
   "outputs": [],
   "source": [
    "most_chosen = np.argmax(active_choices[:, :, :], axis=1)\n",
    "\n",
    "cutoff = 9\n",
    "\n",
    "if mode == 'max':\n",
    "    selection = ranked[:cutoff]\n",
    "elif mode == 'min':\n",
    "    selection = ranked[-cutoff:]\n",
    "    selection = selection[::-1]\n",
    "    \n",
    "timestamps = [100, 200, 300, 400, 500]\n",
    "\n",
    "table = np.zeros((cutoff+1, len(timestamps)))\n",
    "    \n",
    "for i, category in enumerate(selection):\n",
    "    for j, timestamp in enumerate(timestamps):\n",
    "        table[i,j] = np.mean(most_chosen[:,timestamp] == category)\n",
    "\n",
    "table[cutoff,:] = 1 - np.sum(table, axis=0)"
   ]
  },
  {
   "cell_type": "code",
   "execution_count": 8,
   "metadata": {},
   "outputs": [
    {
     "name": "stdout",
     "output_type": "stream",
     "text": [
      "             100    200    300    400    500\n",
      "9          0.1357 0.1689 0.1919 0.2077 0.2258\n",
      "3          0.1437 0.1597 0.1702 0.1794 0.1873\n",
      "6          0.1020 0.1072 0.1047 0.1107 0.1121\n",
      "0          0.1240 0.1147 0.1124 0.1076 0.1060\n",
      "1          0.1102 0.1025 0.1012 0.0981 0.0956\n",
      "5          0.0944 0.0869 0.0808 0.0781 0.0743\n",
      "8          0.0851 0.0842 0.0823 0.0797 0.0753\n",
      "7          0.0666 0.0670 0.0583 0.0531 0.0507\n",
      "4          0.0717 0.0607 0.0546 0.0496 0.0431\n",
      "OTHER          0.0666 0.0482 0.0436 0.0360 0.0298\n"
     ]
    }
   ],
   "source": [
    "header = ' ' * 10 + ' '.join('%6i' % x for x in timestamps)\n",
    "print(header)\n",
    "\n",
    "for i, row in enumerate(table):\n",
    "    if i < cutoff:\n",
    "        category = idx2category[selection[i]]\n",
    "    else:\n",
    "        category = 'OTHER'\n",
    "    category_string = '{}'.format(category) + ' ' * 10\n",
    "    num_string = ' '.join('{:.04f}'.format(x) for x in row.tolist())\n",
    "    print(category_string + num_string)"
   ]
  },
  {
   "cell_type": "code",
   "execution_count": 9,
   "metadata": {},
   "outputs": [],
   "source": [
    "random_success = np.mean(np.argmin(random_thetas, axis=1) == selection[0], axis=0)\n",
    "active_success = np.mean(np.argmin(active_thetas, axis=1) == selection[0], axis=0)"
   ]
  },
  {
   "cell_type": "code",
   "execution_count": 10,
   "metadata": {},
   "outputs": [
    {
     "data": {
      "text/plain": [
       "<matplotlib.legend.Legend at 0x121412550>"
      ]
     },
     "execution_count": 10,
     "metadata": {},
     "output_type": "execute_result"
    },
    {
     "data": {
      "image/png": "[encoded data removed]",
      "text/plain": [
       "<Figure size 432x288 with 1 Axes>"
      ]
     },
     "metadata": {
      "needs_background": "light"
     },
     "output_type": "display_data"
    }
   ],
   "source": [
    "plt.plot(active_success, label='active')\n",
    "plt.plot(random_success, label='random')\n",
    "plt.xlabel('Time')\n",
    "plt.ylabel('Success Rate')\n",
    "plt.legend()"
   ]
  },
  {
   "cell_type": "code",
   "execution_count": null,
   "metadata": {},
   "outputs": [],
   "source": []
  }
 ],
 "metadata": {
  "kernelspec": {
   "display_name": "Python 3",
   "language": "python",
   "name": "python3"
  },
  "language_info": {
   "codemirror_mode": {
    "name": "ipython",
    "version": 3
   },
   "file_extension": ".py",
   "mimetype": "text/x-python",
   "name": "python",
   "nbconvert_exporter": "python",
   "pygments_lexer": "ipython3",
   "version": "3.7.3"
  }
 },
 "nbformat": 4,
 "nbformat_minor": 2
}
