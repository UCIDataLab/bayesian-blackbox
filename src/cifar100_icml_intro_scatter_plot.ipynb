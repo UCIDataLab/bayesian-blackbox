{
 "cells": [
  {
   "cell_type": "code",
   "execution_count": 1,
   "metadata": {},
   "outputs": [],
   "source": [
    "import matplotlib.pyplot as plt\n",
    "import numpy as np\n",
    "import copy\n",
    "from scipy.stats import beta\n",
    "import matplotlib\n",
    "import pandas as pd\n",
    "from models import BetaBernoulli\n",
    "\n",
    "matplotlib.rcParams['font.size'] = 8\n",
    "matplotlib.rcParams['font.family'] = 'serif'\n",
    "matplotlib.rcParams['text.usetex'] = False\n",
    "\n",
    "num_samples = 1000\n",
    "\n",
    "from models import BetaBernoulli, SumOfBetaEce\n",
    "from data_utils import datafile_dict, datasize_dict, num_classes_dict\n",
    "from active_utils import prepare_data"
   ]
  },
  {
   "cell_type": "code",
   "execution_count": 2,
   "metadata": {},
   "outputs": [
    {
     "name": "stdout",
     "output_type": "stream",
     "text": [
      "Accuracy: 0.741\n",
      "{0: 'bottle', 1: 'sweet_pepper', 2: 'crocodile', 3: 'beetle', 4: 'snake', 5: 'house', 6: 'streetcar', 7: 'television', 8: 'bus', 9: 'woman', 10: 'willow_tree', 11: 'hamster', 12: 'lamp', 13: 'rocket', 14: 'can', 15: 'forest', 16: 'turtle', 17: 'train', 18: 'chair', 19: 'butterfly', 20: 'maple_tree', 21: 'orchid', 22: 'cockroach', 23: 'baby', 24: 'lizard', 25: 'snail', 26: 'wardrobe', 27: 'lobster', 28: 'poppy', 29: 'table', 30: 'cloud', 31: 'tiger', 32: 'skyscraper', 33: 'crab', 34: 'boy', 35: 'man', 36: 'pine_tree', 37: 'rabbit', 38: 'caterpillar', 39: 'bridge', 40: 'couch', 41: 'aquarium_fish', 42: 'fox', 43: 'mouse', 44: 'dolphin', 45: 'worm', 46: 'tulip', 47: 'elephant', 48: 'lion', 49: 'camel', 50: 'shark', 51: 'flatfish', 52: 'bee', 53: 'road', 54: 'cattle', 55: 'trout', 56: 'keyboard', 57: 'kangaroo', 58: 'porcupine', 59: 'pear', 60: 'orange', 61: 'leopard', 62: 'bear', 63: 'squirrel', 64: 'mountain', 65: 'shrew', 66: 'sea', 67: 'pickup_truck', 68: 'clock', 69: 'telephone', 70: 'lawn_mower', 71: 'possum', 72: 'motorcycle', 73: 'girl', 74: 'spider', 75: 'ray', 76: 'beaver', 77: 'tractor', 78: 'cup', 79: 'wolf', 80: 'bed', 81: 'seal', 82: 'castle', 83: 'sunflower', 84: 'rose', 85: 'chimpanzee', 86: 'plate', 87: 'bowl', 88: 'palm_tree', 89: 'oak_tree', 90: 'apple', 91: 'tank', 92: 'dinosaur', 93: 'skunk', 94: 'whale', 95: 'raccoon', 96: 'otter', 97: 'bicycle', 98: 'mushroom', 99: 'plain'}\n"
     ]
    },
    {
     "name": "stderr",
     "output_type": "stream",
     "text": [
      "/Users/disiji/Dropbox/current/bayesian-blackbox/.venv/lib/python3.7/site-packages/ipykernel_launcher.py:4: ParserWarning: Falling back to the 'python' engine because the 'c' engine does not support regex separators (separators > 1 char and different from '\\s+' are interpreted as regex); you can avoid this warning by specifying engine='python'.\n",
      "  after removing the cwd from sys.path.\n"
     ]
    }
   ],
   "source": [
    "datafile = datafile_dict['cifar100']\n",
    "categories, observations, confidences, idx2category, category2idx = prepare_data(datafile, False)\n",
    "\n",
    "df = pd.read_csv(\"../data/cifar100/predictions.txt\", sep='\\s') \n",
    "id2class = dict(enumerate(set(df['Correct'])))\n",
    "class2id = {id2class[k]: k for k in id2class}\n",
    "print(id2class)"
   ]
  },
  {
   "cell_type": "code",
   "execution_count": 3,
   "metadata": {},
   "outputs": [],
   "source": [
    "# accuracy models\n",
    "accuracy_model = copy.deepcopy(BetaBernoulli(k=100, prior=None))\n",
    "accuracy_model.update_batch(categories, observations)\n",
    "\n",
    "# ece models for each class\n",
    "ece_models = [copy.deepcopy(SumOfBetaEce(num_bins=10, weight=None, prior_alpha=None, prior_beta=None)) for i in range(100)]\n",
    "for class_idx in range(100):\n",
    "    mask_idx = [i for i in range(len(observations)) if observations[i] == class_idx]\n",
    "    observations_sublist = [observations[i] for i in mask_idx]\n",
    "    confidences_sublist = [confidences[i] for i in mask_idx]\n",
    "    ece_models[class_idx].update_batch(confidences_sublist, observations_sublist)"
   ]
  },
  {
   "cell_type": "code",
   "execution_count": 4,
   "metadata": {},
   "outputs": [],
   "source": [
    "# draw samples from posterior of classwise accuracy\n",
    "accuracy_samples = accuracy_model.sample(num_samples) # (num_categories, num_samples)\n",
    "ece_samples = np.array([ece_models[class_idx].sample(num_samples) for class_idx in range(100)]).squeeze() # (num_categories, num_samples)"
   ]
  },
  {
   "cell_type": "code",
   "execution_count": 9,
   "metadata": {},
   "outputs": [],
   "source": [
    "# plot"
   ]
  },
  {
   "cell_type": "code",
   "execution_count": null,
   "metadata": {},
   "outputs": [],
   "source": []
  },
  {
   "cell_type": "code",
   "execution_count": null,
   "metadata": {},
   "outputs": [],
   "source": []
  }
 ],
 "metadata": {
  "kernelspec": {
   "display_name": "Python 3",
   "language": "python",
   "name": "python3"
  },
  "language_info": {
   "codemirror_mode": {
    "name": "ipython",
    "version": 3
   },
   "file_extension": ".py",
   "mimetype": "text/x-python",
   "name": "python",
   "nbconvert_exporter": "python",
   "pygments_lexer": "ipython3",
   "version": "3.7.2"
  }
 },
 "nbformat": 4,
 "nbformat_minor": 2
}
