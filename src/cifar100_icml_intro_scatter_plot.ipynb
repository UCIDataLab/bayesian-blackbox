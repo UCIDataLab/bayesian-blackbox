{
 "cells": [
  {
   "cell_type": "code",
   "execution_count": 1,
   "metadata": {},
   "outputs": [],
   "source": [
    "import matplotlib.pyplot as plt\n",
    "import numpy as np\n",
    "import copy\n",
    "from scipy.stats import beta\n",
    "import matplotlib\n",
    "import pandas as pd\n",
    "from models import BetaBernoulli\n",
    "\n",
    "matplotlib.rcParams['font.size'] = 8\n",
    "matplotlib.rcParams['font.family'] = 'serif'\n",
    "matplotlib.rcParams['text.usetex'] = False\n",
    "\n",
    "num_samples = 1000\n",
    "\n",
    "from models import BetaBernoulli, SumOfBetaEce\n",
    "from data_utils import datafile_dict, datasize_dict, num_classes_dict\n",
    "from active_utils import prepare_data"
   ]
  },
  {
   "cell_type": "code",
   "execution_count": 2,
   "metadata": {},
   "outputs": [
    {
     "name": "stdout",
     "output_type": "stream",
     "text": [
      "Accuracy: 0.741\n",
      "{0: 'woman', 1: 'kangaroo', 2: 'raccoon', 3: 'man', 4: 'motorcycle', 5: 'squirrel', 6: 'spider', 7: 'cockroach', 8: 'pickup_truck', 9: 'poppy', 10: 'sunflower', 11: 'ray', 12: 'wardrobe', 13: 'wolf', 14: 'flatfish', 15: 'whale', 16: 'dolphin', 17: 'pear', 18: 'chimpanzee', 19: 'bus', 20: 'crab', 21: 'beaver', 22: 'bottle', 23: 'otter', 24: 'elephant', 25: 'maple_tree', 26: 'lobster', 27: 'plain', 28: 'snake', 29: 'cattle', 30: 'bear', 31: 'apple', 32: 'bee', 33: 'caterpillar', 34: 'oak_tree', 35: 'crocodile', 36: 'mountain', 37: 'hamster', 38: 'rose', 39: 'dinosaur', 40: 'sweet_pepper', 41: 'keyboard', 42: 'baby', 43: 'porcupine', 44: 'boy', 45: 'possum', 46: 'bed', 47: 'plate', 48: 'pine_tree', 49: 'skyscraper', 50: 'telephone', 51: 'train', 52: 'lamp', 53: 'cup', 54: 'television', 55: 'lawn_mower', 56: 'table', 57: 'butterfly', 58: 'fox', 59: 'leopard', 60: 'palm_tree', 61: 'road', 62: 'tiger', 63: 'castle', 64: 'can', 65: 'clock', 66: 'skunk', 67: 'chair', 68: 'rabbit', 69: 'mouse', 70: 'forest', 71: 'orange', 72: 'streetcar', 73: 'cloud', 74: 'tank', 75: 'lizard', 76: 'house', 77: 'worm', 78: 'camel', 79: 'tulip', 80: 'sea', 81: 'willow_tree', 82: 'aquarium_fish', 83: 'bicycle', 84: 'mushroom', 85: 'beetle', 86: 'bowl', 87: 'girl', 88: 'tractor', 89: 'shrew', 90: 'seal', 91: 'shark', 92: 'bridge', 93: 'turtle', 94: 'rocket', 95: 'lion', 96: 'snail', 97: 'orchid', 98: 'trout', 99: 'couch'}\n"
     ]
    },
    {
     "name": "stderr",
     "output_type": "stream",
     "text": [
      "/Users/disiji/Dropbox/current/bayesian-blackbox/.venv/lib/python3.7/site-packages/ipykernel_launcher.py:4: ParserWarning: Falling back to the 'python' engine because the 'c' engine does not support regex separators (separators > 1 char and different from '\\s+' are interpreted as regex); you can avoid this warning by specifying engine='python'.\n",
      "  after removing the cwd from sys.path.\n"
     ]
    }
   ],
   "source": [
    "datafile = datafile_dict['cifar100']\n",
    "categories, observations, confidences, idx2category, category2idx = prepare_data(datafile, False)\n",
    "\n",
    "df = pd.read_csv(\"../data/cifar100/predictions.txt\", sep='\\s') \n",
    "id2class = dict(enumerate(set(df['Correct'])))\n",
    "class2id = {id2class[k]: k for k in id2class}\n",
    "print(id2class)"
   ]
  },
  {
   "cell_type": "code",
   "execution_count": 3,
   "metadata": {},
   "outputs": [],
   "source": [
    "# accuracy models\n",
    "accuracy_model = copy.deepcopy(BetaBernoulli(k=100, prior=None))\n",
    "accuracy_model.update_batch(categories, observations)\n",
    "\n",
    "# ece models for each class\n",
    "ece_models = [copy.deepcopy(SumOfBetaEce(num_bins=10, weight=None, prior_alpha=None, prior_beta=None)) for i in range(100)]\n",
    "for class_idx in range(100):\n",
    "    mask_idx = [i for i in range(len(observations)) if categories[i] == class_idx]\n",
    "    observations_sublist = [observations[i] for i in mask_idx]\n",
    "    confidences_sublist = [confidences[i] for i in mask_idx]\n",
    "    ece_models[class_idx].update_batch(confidences_sublist, observations_sublist)"
   ]
  },
  {
   "cell_type": "code",
   "execution_count": 4,
   "metadata": {},
   "outputs": [],
   "source": [
    "# draw samples from posterior of classwise accuracy\n",
    "accuracy_samples = accuracy_model.sample(num_samples) # (num_categories, num_samples)\n",
    "ece_samples = np.array([ece_models[class_idx].sample(num_samples) for class_idx in range(100)]).squeeze() # (num_categories, num_samples)"
   ]
  },
  {
   "cell_type": "code",
   "execution_count": 5,
   "metadata": {},
   "outputs": [
    {
     "data": {
      "image/png": "[encoded data removed]",
      "text/plain": [
       "<Figure size 432x288 with 1 Axes>"
      ]
     },
     "metadata": {
      "needs_background": "light"
     },
     "output_type": "display_data"
    }
   ],
   "source": [
    "# plot\n",
    "plt.scatter(np.mean(accuracy_samples, axis=1), np.mean(ece_samples, axis=1))\n",
    "plt.xlabel('accuracy')\n",
    "plt.ylabel('ECE')\n",
    "plt.show()"
   ]
  },
  {
   "cell_type": "code",
   "execution_count": 6,
   "metadata": {},
   "outputs": [
    {
     "data": {
      "image/png": "[encoded data removed]",
      "text/plain": [
       "<Figure size 432x288 with 1 Axes>"
      ]
     },
     "metadata": {
      "needs_background": "light"
     },
     "output_type": "display_data"
    }
   ],
   "source": [
    "plt.hist(np.mean(ece_samples, axis=1));\n",
    "plt.show()"
   ]
  },
  {
   "cell_type": "code",
   "execution_count": 7,
   "metadata": {},
   "outputs": [
    {
     "data": {
      "image/png": "[encoded data removed]",
      "text/plain": [
       "<Figure size 432x288 with 1 Axes>"
      ]
     },
     "metadata": {
      "needs_background": "light"
     },
     "output_type": "display_data"
    }
   ],
   "source": [
    "plt.hist(np.mean(accuracy_samples, axis=1));\n",
    "plt.show()"
   ]
  },
  {
   "cell_type": "code",
   "execution_count": null,
   "metadata": {},
   "outputs": [],
   "source": []
  }
 ],
 "metadata": {
  "kernelspec": {
   "display_name": "Python 3",
   "language": "python",
   "name": "python3"
  },
  "language_info": {
   "codemirror_mode": {
    "name": "ipython",
    "version": 3
   },
   "file_extension": ".py",
   "mimetype": "text/x-python",
   "name": "python",
   "nbconvert_exporter": "python",
   "pygments_lexer": "ipython3",
   "version": "3.7.2"
  }
 },
 "nbformat": 4,
 "nbformat_minor": 2
}
