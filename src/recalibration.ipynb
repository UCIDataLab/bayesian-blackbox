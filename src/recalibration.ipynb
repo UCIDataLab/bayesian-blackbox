{
 "cells": [
  {
   "cell_type": "code",
   "execution_count": 1,
   "metadata": {},
   "outputs": [],
   "source": [
    "import numpy as np\n",
    "import matplotlib.pyplot as plt\n",
    "import matplotlib as mpl\n",
    "from typing import Tuple, Dict, List\n",
    "from scipy import stats\n",
    "%matplotlib inline\n",
    "\n",
    "COLUMN_WIDTH = 3.25  # Inches\n",
    "TEXT_WIDTH = 6.299213  # Inches\n",
    "GOLDEN_RATIO = 1.61803398875\n",
    "DPI = 300\n",
    "FONT_SIZE = 8\n",
    "\n",
    "from data_utils import datafile_dict, num_classes_dict, logits_dict, datasize_dict, prepare_data, train_holdout_split, \\\n",
    "    DATASET_LIST\n",
    "from active_utils import SAMPLE_CATEGORY, _get_confidence_k, get_ground_truth, eval_ece"
   ]
  },
  {
   "cell_type": "code",
   "execution_count": 10,
   "metadata": {},
   "outputs": [],
   "source": [
    "num_bins = 10\n",
    "\n",
    "def bayesian_assessment(confidences: np.ndarray,\n",
    "                        observations: np.ndarray,\n",
    "                        var: int = None,\n",
    "                        pseudocount: int = None) -> Dict[str, np.ndarray]:\n",
    "    bins = np.linspace(0, 1, num_bins + 1)\n",
    "    digitized = np.digitize(confidences, bins[1:-1])\n",
    "    \n",
    "    density_bins = [(digitized == i).mean() for i in range(0, num_bins)]\n",
    "    diagonal_bins = [(i + 0.5) / num_bins for i in range(0, num_bins)]\n",
    "    \n",
    "    beta_priors = np.array([[(i + 0.5) * pseudocount / 10, (9.5 - i) * pseudocount / 10] for i in range(num_bins)])\n",
    "\n",
    "    counts = np.array([((observations[digitized == i]).sum(), \n",
    "                        (1-observations[digitized == i]).sum())\n",
    "                       for i in range(num_bins)])\n",
    "    empirical_accuracy = counts[:, 0] / (counts[:, 0] + counts[:, 1])\n",
    "    empirical_accuracy[np.isnan(empirical_accuracy)] = 0\n",
    "    beta_posteriors = beta_priors + counts\n",
    "\n",
    "    # compute mean and credible interval of posterior\n",
    "    beta_posteriors_mean = np.array([beta_posteriors[i, 0] / (beta_posteriors[i].sum())\n",
    "                                     for i in range(num_bins)])\n",
    "    beta_posterior_p025 = np.array([stats.beta.ppf(0.025, beta_posteriors[i, 0], beta_posteriors[i, 1])\n",
    "                                    for i in range(num_bins)])\n",
    "    beta_posterior_p975 = np.array([stats.beta.ppf(0.975, beta_posteriors[i, 0], beta_posteriors[i, 1])\n",
    "                                    for i in range(num_bins)])\n",
    "    return {\n",
    "        'diagonal_bins': np.array(diagonal_bins),\n",
    "        'density_bins': np.array(density_bins),\n",
    "        'empirical_accuracy': empirical_accuracy,\n",
    "        'beta_posteriors_mean': beta_posteriors_mean,\n",
    "        'beta_posterior_p025': beta_posterior_p025,\n",
    "        'beta_posterior_p975': beta_posterior_p975,\n",
    "    }\n",
    "\n",
    "\n",
    "def plot_bayesian_reliability_diagram(confidences: np.ndarray,\n",
    "                                      observations: np.ndarray,\n",
    "                                      var: int = None,\n",
    "                                      pseudocount: int = None) -> None:\n",
    "    output = bayesian_assessment(confidences, observations, var, pseudocount)\n",
    "\n",
    "    fig, ax1 = plt.subplots(figsize=(4.3, 3))\n",
    "    color = 'tab:red'\n",
    "    # ax1.grid(True)\n",
    "    ax1.scatter([i + 0.5 for i in range(num_bins)], output['empirical_accuracy'], label=\"Frequentist\", marker=\"^\",\n",
    "                s=100)\n",
    "    ax1.plot([i + 0.5 for i in range(num_bins)], output['beta_posteriors_mean'], c=\"r\", linestyle=\"--\")\n",
    "    ax1.errorbar([i + 0.5 for i in range(num_bins)],\n",
    "                 output['beta_posteriors_mean'],\n",
    "                 yerr=(output['beta_posteriors_mean'] - output['beta_posterior_p025'],\n",
    "                       output['beta_posterior_p975'] - output['beta_posteriors_mean']),\n",
    "                 fmt='o', color='r', label=\"Bayesian\")\n",
    "    ax1.plot(np.linspace(0, 1, num_bins + 1), linestyle=\"--\", linewidth=3, c=\"gray\")\n",
    "    ax1.fill_between([i + 0.5 for i in range(num_bins)], output['beta_posteriors_mean'], \\\n",
    "                     np.linspace(0, 1, num_bins + 1)[:-1] + 0.05, color=\"gray\", alpha=0.3)\n",
    "    ax1.set_xlim((0.0, num_bins))\n",
    "    ax1.set_xlabel(\"Score(Model confidences)\", fontsize=14)\n",
    "    ax1.set_xticks(range(num_bins + 1))\n",
    "    ax1.set_xticklabels([\"%.1f\" % i for i in np.linspace(0, 1, num_bins + 1)])\n",
    "    ax1.set_ylim((0.0, 1.0))\n",
    "    ax1.set_ylabel(\"Estimated Accuracy\", fontsize=14)\n",
    "\n",
    "    # add histogram to the reliability diagram\n",
    "    ax2 = ax1.twinx()  # instantiate a second axes that shares the same x-axis\n",
    "    color = 'tab:blue'\n",
    "    ax2.bar([i + 0.5 for i in range(num_bins)], output['density_bins'], color=color, alpha=0.5, label=\"Histogram\",\n",
    "            width=1.0)\n",
    "    ax2.set_ylabel('Histogram', color=color, fontsize=12)\n",
    "    ax2.set_ylim((0.0, 2.0))\n",
    "    ax2.set_yticks([0, 1.0])\n",
    "    ax2.set_yticklabels([0, 1.0], color=color)\n",
    "    ax2.yaxis.set_label_coords(1.01, 0.25)\n",
    "    plt.tight_layout()"
   ]
  },
  {
   "cell_type": "code",
   "execution_count": 132,
   "metadata": {},
   "outputs": [],
   "source": [
    "# path = '../output/active_learning_topk/cifar100_calibration_error_max_top10_runs100_pseudocount1.00/'\n",
    "# dataset = 'cifar100'\n",
    "# topk = 10\n",
    "\n",
    "# path = '../output/active_learning_topk/20newsgroup_calibration_error_max_top3_runs100_pseudocount2.00/'\n",
    "# datase = '20newsgroup'\n",
    "# topk = 3\n",
    "\n",
    "path = '../output/active_learning_topk/imagenet_calibration_error_max_top100_runs100_pseudocount2.00/'\n",
    "dataset = 'imagenet'\n",
    "topk = 100"
   ]
  },
  {
   "cell_type": "code",
   "execution_count": 133,
   "metadata": {},
   "outputs": [
    {
     "data": {
      "image/png": "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\n",
      "text/plain": [
       "<Figure size 309.6x216 with 2 Axes>"
      ]
     },
     "metadata": {
      "needs_background": "light"
     },
     "output_type": "display_data"
    }
   ],
   "source": [
    "# why is ece lower on calibration model trained on subset of data than full data?\n",
    "path = '../output/active_learning_topk/cifar100_calibration_error_max_top10_runs100_pseudocount1.00/'\n",
    "calibration_model = 'histogram_binning'\n",
    "RUNS = 100\n",
    "LOG_FREQ = 100\n",
    "HOLDOUT_RATIO = 0.1\n",
    "pseudocount = 1\n",
    "dataset = 'cifar100'\n",
    "topk = 10\n",
    "num_samples = datasize_dict[dataset]\n",
    "\n",
    "categories, observations, confidences, idx2category, category2idx, labels = prepare_data(\n",
    "    datafile_dict[dataset], False)\n",
    "indices = np.arange(len(categories))\n",
    "\n",
    "categories, observations, confidences, labels, indices, \\\n",
    "holdout_categories, holdout_observations, holdout_confidences, holdout_labels, holdout_indices = \\\n",
    "    train_holdout_split(categories, observations, confidences, labels, indices, holdout_ratio=HOLDOUT_RATIO)\n",
    "\n",
    "plot_bayesian_reliability_diagram(np.array(confidences), np.array(observations), pseudocount=pseudocount)"
   ]
  },
  {
   "cell_type": "code",
   "execution_count": 134,
   "metadata": {},
   "outputs": [
    {
     "data": {
      "text/plain": [
       "<Figure size 309.6x216 with 2 Axes>"
      ]
     },
     "metadata": {
      "needs_background": "light"
     },
     "output_type": "display_data"
    },
    {
     "data": {
      "text/plain": [
       "<Figure size 309.6x216 with 2 Axes>"
      ]
     },
     "metadata": {
      "needs_background": "light"
     },
     "output_type": "display_data"
    }
   ],
   "source": [
    "# ECE of topk least calibrated classes\n",
    "ground_truth = get_ground_truth(categories, observations, confidences, num_classes_dict[dataset], \\\n",
    "                                'calibration_error', 'max', topk=topk)\n",
    "least_calibrated_mask = [ground_truth[val] for val in categories]\n",
    "\n",
    "categories_1 =np.array([categories[i] for i in range(len(categories)) if least_calibrated_mask[i] == True])\n",
    "categories_0 = np.array([categories[i] for i in range(len(categories)) if least_calibrated_mask[i] == False])\n",
    "observations_1 =np.array([observations[i] for i in range(len(observations)) if least_calibrated_mask[i] == True])\n",
    "observations_0 = np.array([observations[i] for i in range(len(observations)) if least_calibrated_mask[i] == False])\n",
    "confidences_1 =np.array([confidences[i] for i in range(len(confidences)) if least_calibrated_mask[i] == True])\n",
    "confidences_0 = np.array([confidences[i] for i in range(len(confidences)) if least_calibrated_mask[i] == False])\n",
    "\n",
    "plot_bayesian_reliability_diagram(confidences_0, observations_0, pseudocount=pseudocount)\n",
    "plot_bayesian_reliability_diagram(confidences_1, observations_1, pseudocount=pseudocount)"
   ]
  },
  {
   "cell_type": "code",
   "metadata": {},
   "outputs": [],
   "source": [
    "sampled_categories_dict = {\n",
    "    'non-active': np.empty((RUNS, num_samples), dtype=int),\n",
    "    'ts': np.empty((RUNS, num_samples), dtype=int),\n",
    "}\n",
    "sampled_observations_dict = {\n",
    "    'non-active': np.empty((RUNS, num_samples), dtype=bool),\n",
    "    'ts': np.empty((RUNS, num_samples), dtype=bool),\n",
    "}\n",
    "sampled_scores_dict = {\n",
    "    'non-active': np.empty((RUNS, num_samples), dtype=float),\n",
    "    'ts': np.empty((RUNS, num_samples), dtype=float),\n",
    "}\n",
    "sampled_labels_dict = {\n",
    "    'non-active': np.empty((RUNS, num_samples), dtype=int),\n",
    "    'ts': np.empty((RUNS, num_samples), dtype=int),\n",
    "}\n",
    "sampled_indices_dict = {\n",
    "    'non-active': np.empty((RUNS, num_samples), dtype=int),\n",
    "    'ts': np.empty((RUNS, num_samples), dtype=int),\n",
    "}\n",
    "\n",
    "avg_num_agreement_dict = {\n",
    "    'non-active': np.zeros((RUNS, num_samples // LOG_FREQ + 1)),\n",
    "    'ts': np.zeros((RUNS, num_samples // LOG_FREQ + 1)),\n",
    "}\n",
    "cumulative_metric_dict = {\n",
    "    'non-active': np.zeros((RUNS, num_samples // LOG_FREQ + 1)),\n",
    "    'ts': np.zeros((RUNS, num_samples // LOG_FREQ + 1)),\n",
    "}\n",
    "non_cumulative_metric_dict = {\n",
    "    'non-active': np.zeros((RUNS, num_samples // LOG_FREQ + 1)),\n",
    "    'ts': np.zeros((RUNS, num_samples // LOG_FREQ + 1)),\n",
    "}\n",
    "holdout_ece_dict = {\n",
    "    'non-active': np.zeros((RUNS, num_samples // LOG_FREQ + 1)),\n",
    "    'ts': np.zeros((RUNS, num_samples // LOG_FREQ + 1)),\n",
    "}"
   ]
  },
  {
   "cell_type": "code",
   "metadata": {},
   "outputs": [],
   "source": [
    "for method in ['non-active', 'ts']:\n",
    "    sampled_categories_dict[method] = np.load(\n",
    "        path + ('sampled_categories_%s.npy' % method))\n",
    "    sampled_observations_dict[method] = np.load(\n",
    "        path + ('sampled_observations_%s.npy' % method))\n",
    "    sampled_scores_dict[method] = np.load(path + ('sampled_scores_%s.npy' % method))\n",
    "    sampled_labels_dict[method] = np.load(path + ('sampled_labels_%s.npy' % method))\n",
    "    sampled_indices_dict[method] = np.load(path + ('sampled_indices_%s.npy' % method))\n",
    "            \n",
    "for method in ['non-active', 'ts']:\n",
    "    avg_num_agreement_dict[method] = np.load(\n",
    "        path + ('avg_num_agreement_%s.npy' % method))\n",
    "    cumulative_metric_dict[method] = np.load(\n",
    "        path +  ('cumulative_metric_%s.npy' % method))\n",
    "    non_cumulative_metric_dict[method] = np.load(\n",
    "        path + ('non_cumulative_metric_%s.npy' % method))\n",
    "    holdout_ece_dict[method] = np.load(\n",
    "        path + ('holdout_ece_%s_%s.npy' % (calibration_model, method)))\n",
    "    \n",
    "for method in ['non-active', 'ts']:\n",
    "    avg_num_agreement_dict[method] = avg_num_agreement_dict[method].mean(axis=0)\n",
    "    cumulative_metric_dict[method] = cumulative_metric_dict[method].mean(axis=0)\n",
    "    non_cumulative_metric_dict[method] = non_cumulative_metric_dict[method].mean(axis=0)\n",
    "    if holdout_ece_dict:\n",
   ]
  },
  {
   "cell_type": "code",
   "metadata": {},
   "outputs": [
    {
     "data": {
      "text/plain": [
       "<Figure size 432x288 with 1 Axes>"
      ]
     },
     "metadata": {
      "needs_background": "light"
     },
     "output_type": "display_data"
    },
    {
     "name": "stdout",
     "output_type": "stream",
     "text": [
      "minimum of  holdout_ece with ts: 0.011954357118445837\n",
      "holdout_ece evaluated on all holdout set: 0.01291802773359483\n",
      "Percentage of drop: -7.46%\n"
     ]
    },
    {
     "data": {
      "text/plain": [
       "<Figure size 432x288 with 1 Axes>"
      ]
     },
     "metadata": {
      "needs_background": "light"
     },
     "output_type": "display_data"
    }
   ],
   "source": [
    "plt.figure()\n",
    "for method in ['non-active', 'ts']:\n",
    "    x = np.arange(len(holdout_ece_dict[method])) * LOG_FREQ\n",
    "    plt.plot(x[:-1], holdout_ece_dict[method][:-1],label=method)\n",
    "plt.ylim([0, 0.15])\n",
    "plt.legend()\n",
    "plt.title(\"holdout_ece\")\n",
    "plt.show()\n",
    "ece_min = min(holdout_ece_dict['ts'][:-1])\n",
    "ece_converge = holdout_ece_dict['ts'][-2]\n",
    "print(\"minimum of  holdout_ece with ts:\", ece_min)\n",
    "print(\"holdout_ece evaluated on all holdout set:\", ece_converge)\n",
    "print(\"Percentage of drop:\", '{:.2%}'.format((ece_min - ece_converge) / ece_converge))\n",
    "\n",
    "ratio_gain = (holdout_ece_dict['ts'][:-1] - holdout_ece_dict['non-active'][:-1]) / holdout_ece_dict['non-active'][:-1]\n",
    "plt.plot(x[:-1], ratio_gain)\n",
    "plt.title('ECE ratio gain, ts v.s. non-active')\n",
    "plt.show()"
   ]
  },
  {
   "cell_type": "code",
   "metadata": {},
   "outputs": [],
   "source": [
    "# percentage of samples from the least calibrate top 10 predicted classes\n",
    "samples_in_ground_truth = {\n",
    "    'non-active': np.empty(sampled_categories_dict[method].shape, dtype=bool),\n",
    "    'ts': np.empty(sampled_categories_dict[method].shape, dtype=bool),\n",
    "}\n",
    "for method in ['non-active', 'ts']:\n",
    "    for run_id in range(sampled_categories_dict[method].shape[0]):\n",
    "        for i in range(sampled_categories_dict[method].shape[1]):\n",
    "            samples_in_ground_truth[method][run_id, i] = ground_truth[sampled_categories_dict[method][run_id, i]]\n",
    "    samples_in_ground_truth[method] = samples_in_ground_truth[method].mean(axis=0)"
   ]
  },
  {
   "cell_type": "code",
   "metadata": {},
   "outputs": [
    {
     "name": "stderr",
     "output_type": "stream",
     "text": [
      "No handles with labels found to put in legend.\n"
     ]
    },
    {
     "data": {
      "text/plain": [
       "Text(0.5, 1.0, '#avg samples from ground truth top 10 least calibrated classes (at each step)')"
      ]
     },
     "metadata": {},
     "output_type": "execute_result"
    },
    {
     "data": {
      "text/plain": [
       "<Figure size 432x288 with 1 Axes>"
      ]
     },
     "metadata": {
      "needs_background": "light"
     },
     "output_type": "display_data"
    }
   ],
   "source": [
    "plt.figure()\n",
    "for method in ['non-active', 'ts']:\n",
    "    plt.plot(samples_in_ground_truth[method])\n",
    "plt.legend()\n",
    "plt.title(\"#avg samples from ground truth top 10 least calibrated classes (at each step)\")"
   ]
  },
  {
   "cell_type": "code",

   "source": [
    "# compare reliability diagram at sample 6000 and 9000\n"
   ]
  },
  {
   "cell_type": "code",
      "text/plain": [
       "<Figure size 309.6x216 with 2 Axes>"
      ]
     },
     "metadata": {
      "needs_background": "light"
     },
     "output_type": "display_data"
    },
    {
     "data": {
      "text/plain": [
       "<Figure size 309.6x216 with 2 Axes>"
      ]
     },
     "metadata": {
      "needs_background": "light"
     },
     "output_type": "display_data"
    }
   ],
   "source": [
    "step = 3000\n",
    "plot_bayesian_reliability_diagram(sampled_scores_dict['ts'][:,:step], \\\n",
    "                                  sampled_observations_dict['ts'][:,:step], \\\n",
    "                                  pseudocount=pseudocount)\n",
    "plot_bayesian_reliability_diagram(sampled_scores_dict['non-active'][:,:step], \\\n",
    "                                  sampled_observations_dict['non-active'][:,:step], \\\n",
    "                                  pseudocount=pseudocount)"
   ]
  },
  {
   "cell_type": "code",
   "execution_count": null,
   "metadata": {},
   "outputs": [],
   "source": []
  }
 ],
 "metadata": {
  "kernelspec": {
   "display_name": "Python 3",
   "language": "python",
   "name": "python3"
  },
  "language_info": {
   "codemirror_mode": {
    "name": "ipython",
    "version": 3
   },
   "file_extension": ".py",
   "mimetype": "text/x-python",
   "name": "python",
   "nbconvert_exporter": "python",
   "pygments_lexer": "ipython3",
   "version": "3.7.6"
  }
 },
 "nbformat": 4,
 "nbformat_minor": 2
}
