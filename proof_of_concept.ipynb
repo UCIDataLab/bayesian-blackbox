{
 "cells": [
  {
   "cell_type": "code",
   "execution_count": 1,
   "metadata": {},
   "outputs": [],
   "source": [
    "from collections import deque\n",
    "import numpy as np\n",
    "import matplotlib.pyplot as plt\n",
    "import random\n",
    "\n",
    "from bbutils import BetaBernoulli, GenerativeModel"
   ]
  },
  {
   "cell_type": "code",
   "execution_count": 2,
   "metadata": {},
   "outputs": [],
   "source": [
    "k = 1000  # Number of classes\n",
    "\n",
    "# Thetas from provider for each class\n",
    "theta_provider = np.random.rand(k)\n",
    "theta_provider[0] = 0.95\n",
    "\n",
    "# True thetas of blackbox applied to our data. Class 0 has changed\n",
    "theta_true = theta_provider.copy()\n",
    "theta_true[0] = 0.50"
   ]
  },
  {
   "cell_type": "code",
   "execution_count": 3,
   "metadata": {},
   "outputs": [],
   "source": [
    "# f, (ax1, ax2, ax3) = plt.subplots(3, 1, sharex=True)\n",
    "# f.suptitle('Provider vs. True Accuracies')\n",
    "# ax1.bar(range(k), theta_true)\n",
    "# ax1.set_ylabel('True')\n",
    "# ax2.bar(range(k), theta_provider)\n",
    "# ax2.set_ylabel('Provider')\n",
    "# ax3.bar(range(k), theta_true - theta_provider)\n",
    "# ax3.set_ylabel('Difference')"
   ]
  },
  {
   "cell_type": "code",
   "execution_count": null,
   "metadata": {},
   "outputs": [],
   "source": [
    "n = 100_000\n",
    "generative_model = GenerativeModel(theta_true)\n",
    "categories, observations = generative_model.sample(n)\n",
    "\n",
    "# Best estimate\n",
    "theta_mean = np.mean(observations[categories==0])"
   ]
  },
  {
   "cell_type": "code",
   "execution_count": null,
   "metadata": {},
   "outputs": [],
   "source": [
    "# Queue choices for each category\n",
    "deques = [deque() for _ in range(k)]\n",
    "for category, observation in zip(categories, observations):\n",
    "    deques[category].append(observation)\n",
    "\n",
    "# Random model\n",
    "random_strategy_outcome = np.zeros(n)\n",
    "random_strategy_times_chosen = np.zeros(n)\n",
    "n_success = 0\n",
    "total = 0\n",
    "for i in range(n):\n",
    "    while True:\n",
    "        category = random.randrange(k)\n",
    "        if len(deques[category]) != 0:\n",
    "            break\n",
    "    observation = deques[category].pop()\n",
    "    if category == 0:\n",
    "        n_success += observation\n",
    "        total += 1\n",
    "    random_strategy_outcome[i] = n_success / (total + 1e-13)\n",
    "    random_strategy_times_chosen[i] = total"
   ]
  },
  {
   "cell_type": "code",
   "execution_count": null,
   "metadata": {},
   "outputs": [],
   "source": [
    "# Queue choices for each category\n",
    "deques = [deque() for _ in range(k)]\n",
    "for category, observation in zip(categories, observations):\n",
    "    deques[category].append(observation)\n",
    "    \n",
    "# Beta Bernoulli model\n",
    "model = BetaBernoulli(k)\n",
    "\n",
    "# Prior\n",
    "alpha = np.round(theta_provider * 5)\n",
    "beta = 5 - alpha\n",
    "model._params = np.vstack((alpha + 1, beta + 1)).T\n",
    "\n",
    "beta_bernoulli_outcome = np.zeros(n)\n",
    "beta_bernoulli_times_chosen = np.zeros(n)\n",
    "n_success = 0\n",
    "total = 0\n",
    "for i in range(n):\n",
    "    theta_hat = model.sample()\n",
    "    diff = np.abs(theta_hat - theta_provider)\n",
    "    choices = np.argsort(diff)[::-1]\n",
    "    for j in range(k):\n",
    "        category = choices[j]\n",
    "        if len(deques[category]) != 0:\n",
    "            break\n",
    "    observation = deques[category].pop()\n",
    "    if category == 0:\n",
    "        n_success += observation\n",
    "        total += 1\n",
    "    beta_bernoulli_outcome[i] = n_success / (total + 1e-13)\n",
    "    beta_bernoulli_times_chosen[i] = total\n",
    "    model.update(category, observation)"
   ]
  },
  {
   "cell_type": "code",
   "execution_count": null,
   "metadata": {},
   "outputs": [],
   "source": [
    "plt.plot(beta_bernoulli_times_chosen, c='blue', label='active')\n",
    "plt.plot(random_strategy_times_chosen, c='red', label='random')\n",
    "plt.xlabel('Time')\n",
    "plt.ylabel('Number of Correct Selections')\n",
    "plt.legend()"
   ]
  },
  {
   "cell_type": "code",
   "execution_count": null,
   "metadata": {},
   "outputs": [],
   "source": [
    "plt.plot(np.abs(beta_bernoulli_outcome - theta_mean), c='blue', label='active')\n",
    "plt.plot(np.abs(random_strategy_outcome - theta_mean), c='red', label='random')\n",
    "plt.xlabel('Time')\n",
    "plt.ylabel('Absolute Error')\n",
    "plt.legend()"
   ]
  },
  {
   "cell_type": "code",
   "execution_count": null,
   "metadata": {},
   "outputs": [],
   "source": []
  }
 ],
 "metadata": {
  "kernelspec": {
   "display_name": "Python 3",
   "language": "python",
   "name": "python3"
  },
  "language_info": {
   "codemirror_mode": {
    "name": "ipython",
    "version": 3
   },
   "file_extension": ".py",
   "mimetype": "text/x-python",
   "name": "python",
   "nbconvert_exporter": "python",
   "pygments_lexer": "ipython3",
   "version": "3.6.6"
  }
 },
 "nbformat": 4,
 "nbformat_minor": 2
}
